{
  "cells": [
    {
      "cell_type": "code",
      "execution_count": 179,
      "metadata": {
        "id": "HXdiVTyJpkid"
      },
      "outputs": [],
      "source": [
        "import xlrd\n",
        "import json"
      ]
    },
    {
      "cell_type": "code",
      "execution_count": 189,
      "metadata": {
        "id": "twuXLGBqpgGN"
      },
      "outputs": [],
      "source": [
        "class ItemInfo:\n",
        "  def __init__(self, id, num):\n",
        "    self.id = id\n",
        "    self.num = num\n",
        "    # if self.id == 0:\n",
        "    #   {}\n",
        "    # else:\n",
        "    {\n",
        "        \"id\":self.id,\n",
        "        \"num\":self.num\n",
        "    }\n",
        "  def __iter__(self):\n",
        "    # if self.id == 0:\n",
        "    #   yield{\n",
        "          \n",
        "    #   }\n",
        "    # else:\n",
        "    yield{\n",
        "        \"id\":self.id,\n",
        "        \"num\":self.num\n",
        "    }\n",
        "  \n",
        "  def __str__(self):\n",
        "    return json.dumps(self, ensure_scii=False, cls=MyJsonEncoder)\n",
        "  \n",
        "  def __reper__(self):\n",
        "    return self.__str__()"
      ]
    },
    {
      "cell_type": "code",
      "execution_count": 190,
      "metadata": {
        "id": "9lh7ccTPsRPU"
      },
      "outputs": [],
      "source": [
        "class MyJsonEncoder(json.JSONEncoder):\n",
        "  def default(self, o):\n",
        "    try:\n",
        "      iterable = iter(o)\n",
        "    except TypeError:\n",
        "      pass\n",
        "    else:\n",
        "      return list(iterable)\n",
        "    return json.JSONEncoder.default(self, o)"
      ]
    },
    {
      "cell_type": "code",
      "execution_count": 191,
      "metadata": {
        "id": "qnaW-TjLpmM8"
      },
      "outputs": [],
      "source": [
        "def json_load():\n",
        "  with open('/content/pre-fin.json', 'r') as f:\n",
        "    js = json.load(f)\n",
        "    for i in range(len(js)):\n",
        "      js[i]['ID'] = int(js[i]['ID'])\n",
        "      js[i]['cate'] = int(js[i]['cate'])\n",
        "      js[i]['unlockType'] = int(js[i]['unlockType'])\n",
        "      js[i]['unlockTypeID'] = int(js[i]['unlockTypeID'])\n",
        "      js[i]['PreID'] = int(js[i]['PreID'])\n",
        "      js[i]['preStoryID'] = int(js[i]['preStoryID'])\n",
        "      js[i]['type'] = int(js[i]['type'])\n",
        "      js[i]['timeLimit'] = int(js[i]['timeLimit'])\n",
        "      js[i]['exp'] = int(js[i]['exp'])\n",
        "      js[i]['gold'] = int(js[i]['gold'])\n",
        "      js[i]['finStoryID'] = int(js[i]['finStoryID'])\n",
        "      js[i]['unlockID'] = int(js[i]['unlockID'])\n",
        "      js[i]['client'] = int(js[i]['client'])\n",
        "\n",
        "      #count, target, rewardTile\n",
        "      js[i]['count'] = list(map(int,map(float,js[i]['count'].split(','))))\n",
        "      if len(js[i]['count']) == 1 and js[i]['count'][0] == 0:\n",
        "        js[i]['count'].clear()\n",
        "      js[i]['target'] = list(map(int,map(float,js[i]['target'].split(','))))\n",
        "      if len(js[i]['target']) == 1 and js[i]['target'][0] == 0:\n",
        "        js[i]['target'].clear()\n",
        "      js[i]['rewardTile'] = list(map(int,map(float,js[i]['rewardTile'].split(','))))\n",
        "      if len(js[i]['rewardTile']) == 1 and js[i]['rewardTile'][0] == 0:\n",
        "        js[i]['rewardTile'].clear()\n",
        "      js[i]['rewardItem'] = list(map(int,map(float,js[i]['rewardItem'].split('-'))))  \n",
        "      if len(js[i]['rewardItem']) > 1:\n",
        "        js[i]['rewardItem'] = ItemInfo(js[i]['rewardItem'][0], js[i]['rewardItem'][1])\n",
        "      else:\n",
        "        js[i]['rewardItem'] = []\n",
        "        # print(js[i]['rewardItem'])\n",
        "  temp = json.dumps(js, sort_keys=True, indent=4, cls = MyJsonEncoder)\n",
        "  temp = \"{\\\"data\\\":\"+ temp +\"}\"\n",
        "  jsFile = open(\"./TaskFrontUse5.json\", \"w+\", encoding = 'utf-8')\n",
        "  jsFile.write(temp)\n",
        "  jsFile.close()\n",
        "      \n",
        "json_load()"
      ]
    }
  ],
  "metadata": {
    "colab": {
      "name": "欢迎使用 Colaboratory",
      "provenance": []
    },
    "kernelspec": {
      "display_name": "Python 3",
      "name": "python3"
    }
  },
  "nbformat": 4,
  "nbformat_minor": 0
}
